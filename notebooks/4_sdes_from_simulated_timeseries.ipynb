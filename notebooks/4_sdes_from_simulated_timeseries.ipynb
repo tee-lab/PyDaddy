{
 "cells": [
  {
   "cell_type": "markdown",
   "id": "a47df83f",
   "metadata": {},
   "source": [
    "# Recovering equations from a simulated time series\n",
    "\n",
    "In this notebook, we will generate a simulated time series with a given SDE, and use PyDaddy to estimate the drift and diffusion functions from the simulated time series."
   ]
  },
  {
   "cell_type": "code",
   "execution_count": null,
   "id": "2f03a07e",
   "metadata": {},
   "outputs": [],
   "source": [
    "# Execute this cell to set up PyDaddy in your Colab environment.\n",
    "%pip install git+https://github.com/tee-lab/PyDaddy.git\n",
    "%pip install sdeint"
   ]
  },
  {
   "cell_type": "code",
   "execution_count": null,
   "id": "99d6326c",
   "metadata": {},
   "outputs": [],
   "source": [
    "import numpy as np\n",
    "import matplotlib.pyplot as plt\n",
    "\n",
    "import pydaddy\n",
    "import sdeint"
   ]
  },
  {
   "cell_type": "markdown",
   "id": "a4c73583",
   "metadata": {},
   "source": [
    "## Generate a simulated time series using `sdeint`"
   ]
  },
  {
   "cell_type": "markdown",
   "id": "513e5005",
   "metadata": {},
   "source": [
    "We will use the `sdeint` package to simulate a time series with specified drift and diffusion functions. The following cell contains some sample drift and diffusion functions. Uncomment a function of your choice, or define your own functions `f()` and `g()`."
   ]
  },
  {
   "cell_type": "code",
   "execution_count": null,
   "id": "588e71f1",
   "metadata": {},
   "outputs": [],
   "source": [
    "# Linear drift and constant diffusion (OU process)\n",
    "# def f(x):\n",
    "#     return -x\n",
    "\n",
    "# def g(x):\n",
    "#     return np.sqrt(2)\n",
    "\n",
    "# Cubic drift and quadratic diffusion\n",
    "def f(x):\n",
    "    return x - x ** 3\n",
    "\n",
    "def g(x):\n",
    "    return 2 - x ** 2"
   ]
  },
  {
   "cell_type": "markdown",
   "id": "0ddf5170",
   "metadata": {},
   "source": [
    "Visualize the drift and diffusion functions. Note that the diffusion function $g^2(x)$ is plotted instead of $g(x)$; since that is what we will estimate from the time series using PyDaddy."
   ]
  },
  {
   "cell_type": "code",
   "execution_count": null,
   "id": "da5f26d7",
   "metadata": {},
   "outputs": [],
   "source": [
    "# Range of x over which to plot: edit as appropriate.\n",
    "xs = np.linspace(-1.5, 1.5, 100)\n",
    "\n",
    "fig, ax = plt.subplots(1, 2, figsize=(10, 5))\n",
    "ax[0].plot(xs, f(xs), lw=3)\n",
    "ax[1].plot(xs, g(xs) ** 2, lw=3)\n",
    "ax[0].set(xlabel='$x$', ylabel='$f(x)$', title='Drift ($f(x)$)')\n",
    "ax[1].set(xlabel='$x$', ylabel='$g^2(x)$', title='Diffusion ($g^2(x)$)')\n",
    "plt.show()"
   ]
  },
  {
   "cell_type": "code",
   "execution_count": null,
   "id": "0f0185d0",
   "metadata": {},
   "outputs": [],
   "source": [
    "dt = 0.01            # Integration time-step\n",
    "timepoints = 100000  # Number of time-points to simulate\n",
    "t = np.arange(0, dt * timepoints, step=dt)\n",
    "x0 = 0.0             # Initial condition\n",
    "\n",
    "# Simulate a time series with the given drift and diffusion functions, and given parameters.\n",
    "x = sdeint.itoEuler(f=lambda x, t: f(x),\n",
    "                    G=lambda x, t: g(x),\n",
    "                    y0=x0, tspan=t)"
   ]
  },
  {
   "cell_type": "markdown",
   "id": "9cd4cc2f",
   "metadata": {},
   "source": [
    "Visualize the simulated time series to make sure that the simulation hasn't diverged, and has sufficiently explored the state space.\n",
    "\n",
    "The first plot shows a sample (first 1000 points) from the time series, and the second plot shows the probability density histogram of the simulated time series."
   ]
  },
  {
   "cell_type": "code",
   "execution_count": null,
   "id": "1c318c3e",
   "metadata": {},
   "outputs": [],
   "source": [
    "fig, ax = plt.subplots(1, 2, figsize=(10, 5))\n",
    "ax[0].plot(t[:1000], x[:1000])\n",
    "ax[1].hist(x, bins=100, density=True)\n",
    "ax[0].set(xlabel='Time ($t$)', ylabel='$x(t)$')\n",
    "ax[1].set(xlabel='$x$', ylabel='Density')\n",
    "plt.show()"
   ]
  },
  {
   "cell_type": "markdown",
   "id": "7978f62c",
   "metadata": {},
   "source": [
    "## Recover drift and diffusion functions"
   ]
  },
  {
   "cell_type": "markdown",
   "id": "6dc75884",
   "metadata": {},
   "source": [
    "We now use PyDaddy to recover to drift from the simulated time series."
   ]
  },
  {
   "cell_type": "code",
   "execution_count": null,
   "id": "1c67958c",
   "metadata": {},
   "outputs": [],
   "source": [
    "ddsde = pydaddy.Characterize([x], t, bins=20)"
   ]
  },
  {
   "cell_type": "code",
   "execution_count": null,
   "id": "e34f9409",
   "metadata": {},
   "outputs": [],
   "source": [
    "F = ddsde.fit('F', order=3, tune=True)\n",
    "F"
   ]
  },
  {
   "cell_type": "code",
   "execution_count": null,
   "id": "1aceb487",
   "metadata": {},
   "outputs": [],
   "source": [
    "G = ddsde.fit('G', order=4, tune=True)\n",
    "G"
   ]
  },
  {
   "cell_type": "markdown",
   "id": "1a0b6a05",
   "metadata": {},
   "source": [
    "**Note:** Automatic model selection may not always work, in which case some fine-tuning may be required. See the [Advanced Function Fitting](https://colab.research.google.com/github/tee-lab/PyDaddy/blob/colab/notebooks/3_advanced_function_fitting.ipynb) notebook for more details."
   ]
  },
  {
   "cell_type": "code",
   "execution_count": null,
   "id": "ecede114",
   "metadata": {},
   "outputs": [],
   "source": [
    "G = ddsde.fit('G', order=4, threshold=0.1)\n",
    "G"
   ]
  },
  {
   "cell_type": "markdown",
   "id": "024f3b3c",
   "metadata": {},
   "source": [
    "Plot the estimated drift and diffusion function alongside the ground-truth drift and diffusion for comparison."
   ]
  },
  {
   "cell_type": "code",
   "execution_count": null,
   "id": "c38547bb",
   "metadata": {},
   "outputs": [],
   "source": [
    "fig, ax = plt.subplots(1, 2, figsize=(10, 5))\n",
    "ax[0].plot(xs, f(xs), lw=3, label='Actual')\n",
    "ax[0].plot(xs, F(xs), '--', lw=3, label='Estimated')\n",
    "ax[1].plot(xs, g(xs) ** 2, lw=3, label='Actual')\n",
    "ax[1].plot(xs, G(xs), '--', lw=3, label='Estimated')\n",
    "ax[0].set(xlabel='$x$', ylabel='$f(x)$', title='Drift ($f(x)$)')\n",
    "ax[1].set(xlabel='$x$', ylabel='$g^2(x)$', title='Diffusion ($g^2(x)$)')\n",
    "ax[0].legend()\n",
    "ax[1].legend()\n",
    "plt.show()"
   ]
  }
 ],
 "metadata": {
  "kernelspec": {
   "display_name": "Python 3 (ipykernel)",
   "language": "python",
   "name": "python3"
  },
  "language_info": {
   "codemirror_mode": {
    "name": "ipython",
    "version": 3
   },
   "file_extension": ".py",
   "mimetype": "text/x-python",
   "name": "python",
   "nbconvert_exporter": "python",
   "pygments_lexer": "ipython3",
   "version": "3.11.0"
  }
 },
 "nbformat": 4,
 "nbformat_minor": 5
}
