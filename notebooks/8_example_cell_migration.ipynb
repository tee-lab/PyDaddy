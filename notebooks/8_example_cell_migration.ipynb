{
 "cells": [
  {
   "cell_type": "markdown",
   "id": "bfb56778-5f54-4ddf-be91-9344399f1e3f",
   "metadata": {},
   "source": [
    "# Example analysis: mesoscopic SDEs for cancer cell migration"
   ]
  },
  {
   "cell_type": "markdown",
   "id": "5abc6293-795b-437c-90c0-1f0f76b4b82f",
   "metadata": {},
   "source": [
    "This notebook illustrates the use of PyDaddy to discover mesoscale SDEs for schooling fish. The notebook uses a dataset by [Brückner et. al.](https://doi.org/10.1038/s41567-019-0445-4), which is also provided with PyDaddy as an example dataset."
   ]
  },
  {
   "cell_type": "markdown",
   "id": "f86f70d6-99e3-40ed-a988-f654ab04cd90",
   "metadata": {},
   "source": [
    "## Initialization"
   ]
  },
  {
   "cell_type": "code",
   "execution_count": null,
   "id": "7ffe94ac-ea55-4079-b229-988ecb917f5e",
   "metadata": {},
   "outputs": [],
   "source": [
    "import sys\n",
    "import pydaddy\n",
    "\n",
    "import numpy as np"
   ]
  },
  {
   "cell_type": "code",
   "execution_count": null,
   "id": "bd88b1fa-3495-4f92-acf6-504a640cf1fe",
   "metadata": {},
   "outputs": [],
   "source": [
    "data, t = pydaddy.load_sample_dataset('cell-data-cellhopping')"
   ]
  },
  {
   "cell_type": "code",
   "execution_count": null,
   "id": "468301c0-cf1d-49c9-904c-36b26bcb59a5",
   "metadata": {},
   "outputs": [],
   "source": [
    "ddsde = pydaddy.Characterize(data=data, t=t, bins=21)"
   ]
  },
  {
   "cell_type": "markdown",
   "id": "4fb120c2-b7b2-40d2-b0c6-69d9d04b2261",
   "metadata": {},
   "source": [
    "Note that some of the plots, namely $|\\mathbf{x}|$ histogram and autocorrelation, are not meaningful in this context —— the individual components here are the position $x$ and velocity $v$, $|\\mathbf{x}| = \\sqrt{x^2 + v^2}$ is not a meaningful quantity. "
   ]
  },
  {
   "cell_type": "markdown",
   "id": "e2a69c8e-87e2-4ecb-8dc9-cd5db7bd7911",
   "metadata": {},
   "source": [
    "Visualize the drift and diffusion coefficients to guess appropriate polynomial orders for fitting."
   ]
  },
  {
   "cell_type": "code",
   "execution_count": null,
   "id": "81aac1dd-1a20-4509-94c2-ef479a604eff",
   "metadata": {},
   "outputs": [],
   "source": [
    "ddsde.drift()"
   ]
  },
  {
   "cell_type": "code",
   "execution_count": null,
   "id": "da6aac8c-7965-40c0-b506-954fa82e3b40",
   "metadata": {},
   "outputs": [],
   "source": [
    "ddsde.diffusion(limits=[0, 0.1])"
   ]
  },
  {
   "cell_type": "markdown",
   "id": "c91452db-3693-4711-b113-c6200bae6a2b",
   "metadata": {},
   "source": [
    "## Fitting"
   ]
  },
  {
   "cell_type": "markdown",
   "id": "b18a61f3-ed05-40d1-9b65-4d8600fda960",
   "metadata": {},
   "source": [
    "Based on visualizations, we choose a linear function for the drift, and a quadratic function for diffusion. The model diagnostics (see below) will verify that this choice is sufficient to capture the essential aspects of the model."
   ]
  },
  {
   "cell_type": "code",
   "execution_count": null,
   "id": "0596a8e6-438b-4072-a59f-77d371981f13",
   "metadata": {},
   "outputs": [],
   "source": [
    "f1 = ddsde.fit('F1', order=3, threshold=0.5)\n",
    "f1"
   ]
  },
  {
   "cell_type": "code",
   "execution_count": null,
   "id": "a9f8877c-ba54-498f-88ca-03043621f981",
   "metadata": {},
   "outputs": [],
   "source": [
    "f2 = ddsde.fit('F2', order=3, threshold=0.01)\n",
    "f2"
   ]
  },
  {
   "cell_type": "code",
   "execution_count": null,
   "id": "6d89c37e-1922-4263-a011-6d63af0ee24a",
   "metadata": {},
   "outputs": [],
   "source": [
    "g11 = ddsde.fit('G11', order=3, threshold=1)\n",
    "g11"
   ]
  },
  {
   "cell_type": "code",
   "execution_count": null,
   "id": "ae6c9619-e911-4329-88ee-5d652edd2752",
   "metadata": {},
   "outputs": [],
   "source": [
    "g22 = ddsde.fit('G22', order=4, threshold=0.01)\n",
    "g22"
   ]
  },
  {
   "cell_type": "code",
   "execution_count": null,
   "id": "2106794b-546f-4d97-941d-c48ae007cdfe",
   "metadata": {},
   "outputs": [],
   "source": [
    "g12 = ddsde.fit('G12', order=2, threshold=1)\n",
    "g12"
   ]
  },
  {
   "cell_type": "markdown",
   "id": "4cb46614-0ade-4314-a49c-c442b344db25",
   "metadata": {},
   "source": [
    "## Diagnostics"
   ]
  },
  {
   "cell_type": "markdown",
   "id": "d9a025cf-d91b-49b9-8d5c-276af33e9b27",
   "metadata": {},
   "source": [
    "For this dataset, we do the diagnostics manually. First, simulate a time series with the discovered SDE using the `ddsde.simulate` function."
   ]
  },
  {
   "cell_type": "code",
   "execution_count": null,
   "id": "b2014134-1a8f-4f84-9ef6-5e32266de8af",
   "metadata": {},
   "outputs": [],
   "source": [
    "sim = ddsde.simulate(t_int=0.1, timepoints=100000)"
   ]
  },
  {
   "cell_type": "code",
   "execution_count": null,
   "id": "461cbf36-ebd3-4a0a-ba4f-539b69d90771",
   "metadata": {},
   "outputs": [],
   "source": [
    "import matplotlib.pyplot as plt\n",
    "plt.plot(sim.T)\n",
    "plt.show()"
   ]
  },
  {
   "cell_type": "code",
   "execution_count": null,
   "id": "70de61db-673b-416b-bc62-dd9c766684ba",
   "metadata": {},
   "outputs": [],
   "source": [
    "ddsde_sim = pydaddy.Characterize(data=sim, t=0.1, bins=21)"
   ]
  },
  {
   "cell_type": "code",
   "execution_count": null,
   "id": "1b6d28ce-e0ca-4352-a310-d1eb824bcc4d",
   "metadata": {},
   "outputs": [],
   "source": [
    "ddsde_sim.drift()"
   ]
  },
  {
   "cell_type": "code",
   "execution_count": null,
   "id": "7e3d78f1-623b-4b88-80a4-969f16986e40",
   "metadata": {},
   "outputs": [],
   "source": [
    "ddsde_sim.diffusion(limits=[0, 0.1])"
   ]
  },
  {
   "cell_type": "code",
   "execution_count": null,
   "id": "d504dd26-44c4-4268-a0a6-91a1bd15d6e1",
   "metadata": {},
   "outputs": [],
   "source": [
    "ddsde_sim.fit('F1', order=3, threshold=0.5)"
   ]
  },
  {
   "cell_type": "code",
   "execution_count": null,
   "id": "20d0c7f2-4432-4df5-aec0-152bfd8df54b",
   "metadata": {},
   "outputs": [],
   "source": [
    "ddsde_sim.fit('F2', order=3, threshold=0.01)"
   ]
  },
  {
   "cell_type": "code",
   "execution_count": null,
   "id": "cc5597b9-ea20-4a6a-ad91-785f24bc5167",
   "metadata": {},
   "outputs": [],
   "source": [
    "f2"
   ]
  },
  {
   "cell_type": "code",
   "execution_count": null,
   "id": "14f618a2-484f-4465-8369-a5a344fdd451",
   "metadata": {},
   "outputs": [],
   "source": [
    "ddsde_sim.fit('G11', order=3, threshold=1)"
   ]
  },
  {
   "cell_type": "code",
   "execution_count": null,
   "id": "e393c5c0-db6f-452c-be16-a192662bfd6e",
   "metadata": {},
   "outputs": [],
   "source": [
    "ddsde_sim.fit('G22', order=4, threshold=0.01)"
   ]
  },
  {
   "cell_type": "code",
   "execution_count": null,
   "id": "d03eef5f-bfdf-4223-9282-f306c1d36109",
   "metadata": {},
   "outputs": [],
   "source": [
    "g22"
   ]
  },
  {
   "cell_type": "code",
   "execution_count": null,
   "id": "d6e689a5-6ddc-477b-9a4e-f7f0778d099e",
   "metadata": {},
   "outputs": [],
   "source": []
  }
 ],
 "metadata": {
  "kernelspec": {
   "display_name": "Python 3 (ipykernel)",
   "language": "python",
   "name": "python3"
  },
  "language_info": {
   "codemirror_mode": {
    "name": "ipython",
    "version": 3
   },
   "file_extension": ".py",
   "mimetype": "text/x-python",
   "name": "python",
   "nbconvert_exporter": "python",
   "pygments_lexer": "ipython3",
   "version": "3.11.0"
  }
 },
 "nbformat": 4,
 "nbformat_minor": 5
}
