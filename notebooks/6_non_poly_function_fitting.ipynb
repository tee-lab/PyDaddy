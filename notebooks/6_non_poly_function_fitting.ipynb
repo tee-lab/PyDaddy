{
 "cells": [
  {
   "cell_type": "markdown",
   "id": "4ea02be1-7593-4746-af65-457d4527508b",
   "metadata": {},
   "source": [
    "# Fitting non-polynomial functions\n",
    "\n",
    "By default, `pydaddy` fits polynomial functions for drift and diffusions. However, if the expected functional form is not a polynomial, `pydaddy` provides the option to fit using a custom library of candidate functions.\n",
    "\n",
    "**Note:** This is an experimental feature, and not all functionality is fully supported. For example, you cannot use `simulate()` or `model_diagnostics()` when the drift and diffusion are fitted with custom libraries."
   ]
  },
  {
   "cell_type": "code",
   "execution_count": null,
   "id": "f2ec4ce6",
   "metadata": {},
   "outputs": [],
   "source": [
    "# Execute this cell to set up PyDaddy in your Colab environment.\n",
    "%pip install git+https://github.com/tee-lab/PyDaddy.git"
   ]
  },
  {
   "cell_type": "code",
   "execution_count": null,
   "id": "d78ee5ba-0388-4a99-bb87-002f76bfd4ef",
   "metadata": {},
   "outputs": [],
   "source": [
    "import pydaddy\n",
    "import sdeint\n",
    "import numpy as np"
   ]
  },
  {
   "cell_type": "markdown",
   "id": "4d62293a-ff58-436c-842b-623fcfa44b84",
   "metadata": {},
   "source": [
    "Let us generate some simulated time-series data with specified drift and diffusion, and try to recover the drift and diffusion back from the time-series. The functions we use are just for demonstration, and may not have any ecological or physical significance."
   ]
  },
  {
   "cell_type": "code",
   "execution_count": null,
   "id": "cfec1747-ce08-4e50-a712-f28aaa7f8d61",
   "metadata": {},
   "outputs": [],
   "source": [
    "def f(x, t): return np.cos(x) + 0.5 * np.sin(2 * x)\n",
    "def g(x, t): return 1\n",
    "\n",
    "# Simulate and plot data\n",
    "t_inc = 0.01\n",
    "timepoints = 1e5\n",
    "tspan = np.arange(0, t_inc * timepoints, step=t_inc)\n",
    "data = sdeint.itoint(f=f, G=g, y0=0.1, tspan=tspan)"
   ]
  },
  {
   "cell_type": "code",
   "execution_count": null,
   "id": "8779e443-f078-4afe-8095-68ccbaeb67f3",
   "metadata": {},
   "outputs": [],
   "source": [
    "ddsde = pydaddy.Characterize([data], tspan)"
   ]
  },
  {
   "cell_type": "markdown",
   "id": "ecb8a527-7189-4463-ac3b-05f42324972a",
   "metadata": {},
   "source": [
    "The custom library can be defined as a list of functions, as follows. In this case, our library consists of sinusoids of 3 different frequencies, and the constant function. The functions you choose to include in the library will depend on the specific problem."
   ]
  },
  {
   "cell_type": "code",
   "execution_count": null,
   "id": "480f528c-705d-4a07-be48-d53a7e27190a",
   "metadata": {},
   "outputs": [],
   "source": [
    "library = [\n",
    "        lambda x: np.ones_like(x),  # Each function in the library, when called with an np.array, should return an array of the same shape.\n",
    "        lambda x: np.sin(x),\n",
    "        lambda x: np.cos(x),\n",
    "        lambda x: np.sin(2 * x),\n",
    "        lambda x: np.cos(2 * x),\n",
    "        lambda x: np.sin(3 * x),\n",
    "        lambda x: np.cos(3 * x),\n",
    "    ]"
   ]
  },
  {
   "cell_type": "markdown",
   "id": "04a2a22a-5f28-4f33-a011-6be18e0c789a",
   "metadata": {},
   "source": [
    "While calling `ddsde.fit`, the library can now be passed as a parameter. The output will now just be a list of coefficients, corresponding to each function in the library. Two arrays are returned, corresponding to the coefficient values and their standard errors respectively."
   ]
  },
  {
   "cell_type": "code",
   "execution_count": null,
   "id": "22cf6db8-bcc5-4520-9e4c-62b536e70aee",
   "metadata": {},
   "outputs": [],
   "source": [
    "F = ddsde.fit('F', library=library, tune=False, threshold=0.2)\n",
    "F"
   ]
  },
  {
   "cell_type": "markdown",
   "id": "78a644e0-d84d-4e64-b7c6-b3666600259c",
   "metadata": {},
   "source": [
    "Here, the second and third coefficients, corresponding to the $\\cos x$ and $\\sin 2x$ terms of the library, are non-zero: this matches with our original model."
   ]
  },
  {
   "cell_type": "code",
   "execution_count": null,
   "id": "fc562259-ae27-4449-81f7-ebd83b1317c8",
   "metadata": {},
   "outputs": [],
   "source": [
    "G = ddsde.fit('G', library=library, tune=False, threshold=0.2)\n",
    "G"
   ]
  },
  {
   "cell_type": "markdown",
   "id": "5660610f-1ff6-41b8-ba05-e021fe13a8f7",
   "metadata": {},
   "source": [
    "*Note:* Although in this case we used the same library for both drift and diffusion, this need not be the case in general: if required, we can use different libraries while fitting different functions."
   ]
  }
 ],
 "metadata": {
  "kernelspec": {
   "display_name": "Python 3 (ipykernel)",
   "language": "python",
   "name": "python3"
  },
  "language_info": {
   "codemirror_mode": {
    "name": "ipython",
    "version": 3
   },
   "file_extension": ".py",
   "mimetype": "text/x-python",
   "name": "python",
   "nbconvert_exporter": "python",
   "pygments_lexer": "ipython3",
   "version": "3.9.6"
  }
 },
 "nbformat": 4,
 "nbformat_minor": 5
}
