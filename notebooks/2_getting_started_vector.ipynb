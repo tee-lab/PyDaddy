{
 "cells": [
  {
   "cell_type": "markdown",
   "id": "c320d0f9-7034-458f-b0c3-499fa135c6bc",
   "metadata": {},
   "source": [
    "# PyDaddy with vector data\n",
    "\n",
    "(This notebook assumes that you have gone through the [Getting Started](./1_getting_started.ipynb) notebook.)\n",
    "\n",
    "`pydaddy` also works with (2-dimensional) vector data. For a 2-D timeseries $(x(t), y(t))$, `pydaddy` attempts to fit the following model:\n",
    "\n",
    "$$\n",
    "\\frac{dx}{dt} = f_1(x, y) + g_{11}(x, y) \\cdot \\eta_1(t) + g_{12}(x, y) \\cdot \\eta_2(t) \\\\\n",
    "\\frac{dy}{dt} = f_2(x, y) + g_{21}(x, y) \\cdot \\eta_1(t) + g_{12}(x, y) \\cdot \\eta_2(t)\n",
    "$$\n",
    "\n",
    "Here, $f_1$ and $f_2$ are the drift functions, $g_{11}$ and $g_{22}$ are the diffusion terms, and $g_{12}$ and  $g_{21}$ are the cross-diffusion terms. This equation can also be written in the vector form as:\n",
    "\n",
    "$$\n",
    "\\frac{d \\mathbf{x}}{dt} = \\mathbf{f}(\\mathbf{x}) + \\mathbf{g}(\\mathbf{x}) \\boldsymbol \\eta\n",
    "$$\n",
    "\n",
    "where $\\mathbf{x} = \\begin{bmatrix} x \\\\ y \\end{bmatrix}$,\n",
    "$\\mathbf{f} = \\begin{bmatrix} f_1 \\\\ f_2 \\end{bmatrix}$,\n",
    "$\\mathbf{g} = \\begin{bmatrix} g_{11} & g_{12} \\\\ g_{21} & g_{22} \\end{bmatrix}$ and\n",
    "$\\boldsymbol \\eta = \\begin{bmatrix} \\eta_1 \\\\ \\eta_2 \\end{bmatrix}$.\n",
    "\n",
    "PyDaddy can estimate the drift function directly. For diffusion, PyDaddy estimates \n",
    "$\\mathbf G = \\begin{bmatrix} G_{11} & G_{12} \\\\ G_{21} & G_{22} \\end{bmatrix} = \\mathbf g \\mathbf g^T$."
   ]
  },
  {
   "cell_type": "code",
   "execution_count": null,
   "id": "4c9e8539",
   "metadata": {},
   "outputs": [],
   "source": [
    "# Execute this cell to set up PyDaddy in your Colab environment.\n",
    "%pip install git+https://github.com/tee-lab/PyDaddy.git"
   ]
  },
  {
   "cell_type": "code",
   "execution_count": null,
   "id": "04a08802-0384-4a60-bdf1-b8bf21a13736",
   "metadata": {},
   "outputs": [],
   "source": [
    "import pydaddy"
   ]
  },
  {
   "cell_type": "markdown",
   "id": "89e651ca-69b5-46d0-8f41-65a5871152c5",
   "metadata": {},
   "source": [
    "## Initializing the `pydaddy` object\n",
    "\n",
    "Similar to the scalar analysis, we need to initialize a `pydaddy` object. In this case, `data` will be a two element list."
   ]
  },
  {
   "cell_type": "code",
   "execution_count": null,
   "id": "0db078de-2b35-4f22-a739-19ec1ad2e70a",
   "metadata": {},
   "outputs": [],
   "source": [
    "data, t = pydaddy.load_sample_dataset('model-data-vector-ternary')\n",
    "ddsde = pydaddy.Characterize(data, t, bins=20)"
   ]
  },
  {
   "cell_type": "markdown",
   "id": "16a1687c-1ee8-40ad-a324-44cbeca1fb8b",
   "metadata": {},
   "source": [
    "## Recovering functional forms for drift and diffusion\n",
    "\n",
    "There are 5 different functions, each of two variables: two drift functions ($F_1$ and $F_2$), two diffusion functions ($G^2_{11}$ and $G^2_{22}$) and a cross diffusion term ($G^2_{12} = G^2_{21}$). As with the 1D example, these can be fit by calling the `ddsde.fit()` function."
   ]
  },
  {
   "cell_type": "code",
   "execution_count": null,
   "id": "8d16b341-8808-4314-bc4c-badf43048a9d",
   "metadata": {},
   "outputs": [],
   "source": [
    "F1 = ddsde.fit('F1', order=3, tune=True)\n",
    "print(F1)"
   ]
  },
  {
   "cell_type": "code",
   "execution_count": null,
   "id": "02332dea-00b5-4e06-87a8-7222220b342c",
   "metadata": {},
   "outputs": [],
   "source": [
    "F2 = ddsde.fit('F2', order=3, tune=True)\n",
    "print(F2)"
   ]
  },
  {
   "cell_type": "code",
   "execution_count": null,
   "id": "bc77d074-b271-4081-8dd9-26bf3baeffef",
   "metadata": {},
   "outputs": [],
   "source": [
    "G11 = ddsde.fit('G11', order=3, tune=True)\n",
    "print(G11)"
   ]
  },
  {
   "cell_type": "code",
   "execution_count": null,
   "id": "4a71735a-a34e-437a-b2f7-9ec48039bb04",
   "metadata": {},
   "outputs": [],
   "source": [
    "G22 = ddsde.fit('G22', order=3, tune=True)\n",
    "print(G22)"
   ]
  },
  {
   "cell_type": "code",
   "execution_count": null,
   "id": "7031f923-ed55-48e9-9f84-afc355e053a0",
   "metadata": {},
   "outputs": [],
   "source": [
    "G21 = ddsde.fit('G21', order=3, tune=True)\n",
    "print(G21)"
   ]
  },
  {
   "cell_type": "markdown",
   "id": "9fe7afa9-b530-4ae6-b5b1-18d51799a86a",
   "metadata": {},
   "source": [
    "The coefficients in $G_{21}$ are negligible, i.e. $G_{21}$ is effectively 0.\n",
    "We can force `pydaddy` to ignore small coefficients by setting an appropriate sparity threshold manually instead of letting it automatically choose a threshold (see [Advanced Function Fitting](./3_advanced_function_fitting.ipynb) for further details)."
   ]
  },
  {
   "cell_type": "code",
   "execution_count": null,
   "id": "c5be3ed6-19f0-4394-b90e-5810260d5acd",
   "metadata": {},
   "outputs": [],
   "source": [
    "G21 = ddsde.fit('G21', order=3, threshold=0.1)\n",
    "print(G21)"
   ]
  },
  {
   "cell_type": "markdown",
   "id": "e5f9e5d5",
   "metadata": {},
   "source": [
    "**Note:** Since $G_{21}$ and $G_{12}$ are identical, fitting one will automatically assign the value for the other."
   ]
  },
  {
   "cell_type": "markdown",
   "id": "87691411-2beb-4d6e-8d17-7b47319d2aaf",
   "metadata": {},
   "source": [
    "## Interactive plots for drift and diffusion\n",
    "\n",
    "As with the 1D example, we can get interactive plots of drift and diffusion functions using `ddsde.drift()` and `ddsde.diffusion()`. For 2D, there is also the `ddsde.cross_diffusion()` function to get the cross-diffusion plot."
   ]
  },
  {
   "cell_type": "code",
   "execution_count": null,
   "id": "aaf525fa-f7ca-4348-b477-9ea8db991e24",
   "metadata": {},
   "outputs": [],
   "source": [
    "ddsde.drift()"
   ]
  },
  {
   "cell_type": "code",
   "execution_count": null,
   "id": "4075aa44-3d2b-48e3-813d-f8d57d34f8c7",
   "metadata": {},
   "outputs": [],
   "source": [
    "ddsde.diffusion()"
   ]
  },
  {
   "cell_type": "code",
   "execution_count": null,
   "id": "27ed355c-259a-4614-8beb-5fa0dd27b424",
   "metadata": {},
   "outputs": [],
   "source": [
    "ddsde.cross_diffusion()"
   ]
  },
  {
   "cell_type": "markdown",
   "id": "e96cce1d",
   "metadata": {},
   "source": [
    "## Diagnostics\n",
    "\n",
    "As mentioned in the [Getting Started](./1_getting_started.ipynb) notebook, `pydaddy` allows us to check if all underlying assumptions for fitting a drift-diffusion model are met. In case for 2D, the `noise_diagnostics()` functions creates the following plots:\n",
    "- The distribution of the noise, along with the correlation matrix as an inset. The residual distribution should be an isotropic Gaussian distribution, and the correlation matrix should be identitity\n",
    "- Autocorrelation of the components of residuals $\\eta_x$, $\\eta_y$. These should be uncorrelated, i.e. the autocorrelation times should be close to 0.\n",
    "- QQ plots of the marginals $\\eta_x$ and $\\eta_y$ against theoretical Gaussian distributions of the same mean and variance. Ideally (i.e. if the residuals are Gaussian distributed), all points of these plots should fall on a straight line of slope 1."
   ]
  },
  {
   "cell_type": "code",
   "execution_count": null,
   "id": "9ef24a54",
   "metadata": {},
   "outputs": [],
   "source": [
    "ddsde.noise_diagnostics()"
   ]
  },
  {
   "cell_type": "markdown",
   "id": "2d8db372",
   "metadata": {},
   "source": [
    "The `model_diagnostics()` functions checks if the model is self-consistent. \n",
    "\n",
    "To do this, a simulated time series, with the same length and sampling time as the original time series, is generated by integrating the discovered SDE. The drift and diffusion functions are now re-estimated from this simulated time series, with the same fitting parameters as the original fit. If the model is self-consistent, the re-estimated drift and diffusion functions should match the original drift and diffusion.\n",
    "\n",
    "(Note: This might take a few minutes to complete)"
   ]
  },
  {
   "cell_type": "code",
   "execution_count": null,
   "id": "pending-concert",
   "metadata": {},
   "outputs": [],
   "source": [
    "ddsde.model_diagnostics(oversample=5)"
   ]
  }
 ],
 "metadata": {
  "kernelspec": {
   "display_name": "Python 3 (ipykernel)",
   "language": "python",
   "name": "python3"
  },
  "language_info": {
   "codemirror_mode": {
    "name": "ipython",
    "version": 3
   },
   "file_extension": ".py",
   "mimetype": "text/x-python",
   "name": "python",
   "nbconvert_exporter": "python",
   "pygments_lexer": "ipython3",
   "version": "3.9.6"
  }
 },
 "nbformat": 4,
 "nbformat_minor": 5
}