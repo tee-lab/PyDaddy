{
 "cells": [
  {
   "cell_type": "markdown",
   "id": "bfb56778-5f54-4ddf-be91-9344399f1e3f",
   "metadata": {},
   "source": [
    "[![Open In Colab](https://colab.research.google.com/assets/colab-badge.svg)](https://colab.research.google.com/github/tee-lab/PyDaddy/blob/colab/notebooks/7_example_fish_school.ipynb)\n",
    "\n",
    "# Example analysis: mesoscopic SDEs for fish schools"
   ]
  },
  {
   "cell_type": "markdown",
   "id": "5abc6293-795b-437c-90c0-1f0f76b4b82f",
   "metadata": {},
   "source": [
    "This notebook illustrates the use of PyDaddy to discover mesoscale SDEs for schooling fish. The notebook uses a dataset by [Jitesh et. al.](https://doi.org/10.1038/s41567-020-0787-y), which is also provided with PyDaddy as an example dataset."
   ]
  },
  {
   "cell_type": "code",
   "execution_count": null,
   "id": "7ffe94ac-ea55-4079-b229-988ecb917f5e",
   "metadata": {},
   "outputs": [],
   "source": [
    "import pydaddy"
   ]
  },
  {
   "cell_type": "code",
   "execution_count": null,
   "id": "747fa044-e3a8-4af9-9dcb-fdb4d2797e97",
   "metadata": {},
   "outputs": [],
   "source": [
    "data, t = pydaddy.load_sample_dataset('fish-data-etroplus')"
   ]
  },
  {
   "cell_type": "code",
   "execution_count": null,
   "id": "468301c0-cf1d-49c9-904c-36b26bcb59a5",
   "metadata": {},
   "outputs": [],
   "source": [
    "ddsde = pydaddy.Characterize(data, t, bins=20)"
   ]
  },
  {
   "cell_type": "markdown",
   "id": "e2a69c8e-87e2-4ecb-8dc9-cd5db7bd7911",
   "metadata": {},
   "source": [
    "Visualize the drift and diffusion coefficients to guess appropriate polynomial orders for fitting."
   ]
  },
  {
   "cell_type": "code",
   "execution_count": null,
   "id": "81aac1dd-1a20-4509-94c2-ef479a604eff",
   "metadata": {},
   "outputs": [],
   "source": [
    "ddsde.drift()"
   ]
  },
  {
   "cell_type": "code",
   "execution_count": null,
   "id": "da6aac8c-7965-40c0-b506-954fa82e3b40",
   "metadata": {},
   "outputs": [],
   "source": [
    "ddsde.diffusion()"
   ]
  },
  {
   "cell_type": "markdown",
   "id": "b18a61f3-ed05-40d1-9b65-4d8600fda960",
   "metadata": {},
   "source": [
    "Based on visualizations, we choose a linear function for the drift, and a quadratic function for diffusion. The model diagnostics (see below) will verify that this choice is sufficient to capture the essential aspects of the model."
   ]
  },
  {
   "cell_type": "code",
   "execution_count": null,
   "id": "0596a8e6-438b-4072-a59f-77d371981f13",
   "metadata": {},
   "outputs": [],
   "source": [
    "ddsde.fit('F1', order=1, threshold=0.05)"
   ]
  },
  {
   "cell_type": "code",
   "execution_count": null,
   "id": "a9f8877c-ba54-498f-88ca-03043621f981",
   "metadata": {},
   "outputs": [],
   "source": [
    "ddsde.fit('F2', order=1, threshold=0.05)"
   ]
  },
  {
   "cell_type": "code",
   "execution_count": null,
   "id": "6d89c37e-1922-4263-a011-6d63af0ee24a",
   "metadata": {},
   "outputs": [],
   "source": [
    "ddsde.fit('G11', order=2, threshold=0.05)"
   ]
  },
  {
   "cell_type": "code",
   "execution_count": null,
   "id": "ae6c9619-e911-4329-88ee-5d652edd2752",
   "metadata": {},
   "outputs": [],
   "source": [
    "ddsde.fit('G22', order=2, threshold=0.05)"
   ]
  },
  {
   "cell_type": "code",
   "execution_count": null,
   "id": "2106794b-546f-4d97-941d-c48ae007cdfe",
   "metadata": {},
   "outputs": [],
   "source": [
    "ddsde.fit('G12', order=2, threshold=0.05)"
   ]
  },
  {
   "cell_type": "code",
   "execution_count": null,
   "id": "056ddae5-b990-49be-aa93-53e6cbc9ab56",
   "metadata": {},
   "outputs": [],
   "source": [
    "ddsde.noise_diagnostics(loc=(0., 0.))"
   ]
  },
  {
   "cell_type": "code",
   "execution_count": null,
   "id": "7c784d4d-1469-42c0-90d5-0603c3e6df78",
   "metadata": {},
   "outputs": [],
   "source": [
    "ddsde.model_diagnostics(oversample=20)"
   ]
  },
  {
   "cell_type": "markdown",
   "id": "ae4b10ee-e294-4be5-84f0-34c063db3064",
   "metadata": {},
   "source": [
    "(Note: The model diagnostics may occasionally fail due to idiosyncracies in the particualr simulation---if this happens, it is usually worth re-running the diagnostics a few times to ensure that the failure is note due to random, simulation-dependent effects.) "
   ]
  }
 ],
 "metadata": {
  "kernelspec": {
   "display_name": "Python 3 (ipykernel)",
   "language": "python",
   "name": "python3"
  },
  "language_info": {
   "codemirror_mode": {
    "name": "ipython",
    "version": 3
   },
   "file_extension": ".py",
   "mimetype": "text/x-python",
   "name": "python",
   "nbconvert_exporter": "python",
   "pygments_lexer": "ipython3",
   "version": "3.11.0"
  }
 },
 "nbformat": 4,
 "nbformat_minor": 5
}
